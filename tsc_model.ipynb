{
  "nbformat": 4,
  "nbformat_minor": 0,
  "metadata": {
    "colab": {
      "name": "tsc_model",
      "provenance": [],
      "collapsed_sections": [],
      "mount_file_id": "1mcYqOi8MEk7d-H1q71UvswtOqKEkEs3W",
      "authorship_tag": "ABX9TyPSEJgHBdavNhNxlqPGBWMK"
    },
    "kernelspec": {
      "name": "python3",
      "display_name": "Python 3"
    },
    "accelerator": "GPU"
  },
  "cells": [
    {
      "cell_type": "code",
      "metadata": {
        "id": "fL9Vq3TT7F0v",
        "colab_type": "code",
        "colab": {
          "base_uri": "https://localhost:8080/",
          "height": 34
        },
        "outputId": "f5173fb8-b017-46f6-9090-ee2ae5bbabf0"
      },
      "source": [
        "import numpy as np\n",
        "import pandas as pd\n",
        "import matplotlib.pyplot as plt\n",
        "import glob\n",
        "import os\n",
        "import pickle\n",
        "import random\n",
        "\n",
        "import cv2\n",
        "from skimage.transform import rotate, warp, ProjectiveTransform\n",
        "from skimage import color\n",
        "\n",
        "import tensorflow as tf\n",
        "from tensorflow.keras.callbacks import ModelCheckpoint\n",
        "import keras\n",
        "from keras.models import Sequential\n",
        "from keras.layers import Dense\n",
        "from keras.layers import Dropout, Flatten\n",
        "from keras.layers.convolutional import Conv2D, MaxPooling2D\n",
        "from keras.optimizers import Adam\n",
        "from keras.utils.np_utils import to_categorical\n",
        "from keras.preprocessing.image import ImageDataGenerator"
      ],
      "execution_count": null,
      "outputs": [
        {
          "output_type": "stream",
          "text": [
            "Using TensorFlow backend.\n"
          ],
          "name": "stderr"
        }
      ]
    },
    {
      "cell_type": "code",
      "metadata": {
        "id": "1_sZuWjPFCT9",
        "colab_type": "code",
        "colab": {}
      },
      "source": [
        "np.random.seed(0)"
      ],
      "execution_count": null,
      "outputs": []
    },
    {
      "cell_type": "code",
      "metadata": {
        "id": "zgoiqnE5cl7J",
        "colab_type": "code",
        "colab": {
          "base_uri": "https://localhost:8080/",
          "height": 34
        },
        "outputId": "b1b6fa0c-a7d0-4866-c4b5-db406e6a0114"
      },
      "source": [
        "ls german-traffic-signs"
      ],
      "execution_count": 11,
      "outputs": [
        {
          "output_type": "stream",
          "text": [
            "signnames.csv  test.p  train.p  valid.p\n"
          ],
          "name": "stdout"
        }
      ]
    },
    {
      "cell_type": "code",
      "metadata": {
        "id": "pLah40F8cmrz",
        "colab_type": "code",
        "colab": {}
      },
      "source": [
        "def get_pickle_files_names(path=''):\n",
        "  return [filename for filename in glob.glob(path+'*.p')]\n",
        "\n",
        "\n",
        "def load_pickle_file(path):\n",
        "  return pd.read_pickle(path)  \n",
        "  \n",
        "\n",
        "def load_csv_file(path):\n",
        "  return pd.read_csv(path)"
      ],
      "execution_count": 12,
      "outputs": []
    },
    {
      "cell_type": "code",
      "metadata": {
        "id": "m3Mxd6G8c4Yt",
        "colab_type": "code",
        "colab": {
          "base_uri": "https://localhost:8080/",
          "height": 68
        },
        "outputId": "aa5eb441-719a-4e31-ae51-ac864e2d4efb"
      },
      "source": [
        "pickle_files = get_pickle_files_names('german-traffic-signs/')\n",
        "pickle_files"
      ],
      "execution_count": 13,
      "outputs": [
        {
          "output_type": "execute_result",
          "data": {
            "text/plain": [
              "['german-traffic-signs/test.p',\n",
              " 'german-traffic-signs/train.p',\n",
              " 'german-traffic-signs/valid.p']"
            ]
          },
          "metadata": {
            "tags": []
          },
          "execution_count": 13
        }
      ]
    },
    {
      "cell_type": "code",
      "metadata": {
        "id": "y_a9PpYmc9ui",
        "colab_type": "code",
        "colab": {}
      },
      "source": [
        "train_data = load_pickle_file(pickle_files[1])\n",
        "test_data = load_pickle_file(pickle_files[0])\n",
        "validation_data = load_pickle_file(pickle_files[2])"
      ],
      "execution_count": 14,
      "outputs": []
    },
    {
      "cell_type": "code",
      "metadata": {
        "id": "Pi7Hz72df2Kn",
        "colab_type": "code",
        "colab": {
          "base_uri": "https://localhost:8080/",
          "height": 34
        },
        "outputId": "bd6db6e4-af45-4a3b-95db-1203be70cfba"
      },
      "source": [
        "train_data.keys()"
      ],
      "execution_count": 15,
      "outputs": [
        {
          "output_type": "execute_result",
          "data": {
            "text/plain": [
              "dict_keys(['coords', 'labels', 'features', 'sizes'])"
            ]
          },
          "metadata": {
            "tags": []
          },
          "execution_count": 15
        }
      ]
    },
    {
      "cell_type": "code",
      "metadata": {
        "id": "r6oPuGyif9uI",
        "colab_type": "code",
        "colab": {}
      },
      "source": [
        "X_train_data, y_train_data = train_data['features'], train_data['labels']\n",
        "X_test_data, y_test_data = test_data['features'], test_data['labels']\n",
        "X_val_data, y_val_data = validation_data['features'], validation_data['labels']"
      ],
      "execution_count": 16,
      "outputs": []
    },
    {
      "cell_type": "code",
      "metadata": {
        "id": "oaocWyOqgZ0S",
        "colab_type": "code",
        "colab": {
          "base_uri": "https://localhost:8080/",
          "height": 68
        },
        "outputId": "578af41e-0215-40c1-9455-a6b53b964fd7"
      },
      "source": [
        "print(X_train_data.shape, y_train_data.shape)\n",
        "print(X_test_data.shape, y_test_data.shape)\n",
        "print(X_val_data.shape, y_val_data.shape)"
      ],
      "execution_count": 17,
      "outputs": [
        {
          "output_type": "stream",
          "text": [
            "(34799, 32, 32, 3) (34799,)\n",
            "(12630, 32, 32, 3) (12630,)\n",
            "(4410, 32, 32, 3) (4410,)\n"
          ],
          "name": "stdout"
        }
      ]
    },
    {
      "cell_type": "code",
      "metadata": {
        "id": "8yF77GnNoifl",
        "colab_type": "code",
        "colab": {}
      },
      "source": [
        "assert X_train_data.shape[0] == y_train_data.shape[0], 'Number of images and labels is not equal'"
      ],
      "execution_count": 18,
      "outputs": []
    },
    {
      "cell_type": "code",
      "metadata": {
        "id": "AU2CC9-Xenlx",
        "colab_type": "code",
        "colab": {
          "base_uri": "https://localhost:8080/",
          "height": 1000
        },
        "outputId": "bf695dd8-f8f7-4a18-b279-6d64e218362c"
      },
      "source": [
        "sign_names = load_csv_file('german-traffic-signs/signnames.csv')\n",
        "sign_names"
      ],
      "execution_count": 19,
      "outputs": [
        {
          "output_type": "execute_result",
          "data": {
            "text/html": [
              "<div>\n",
              "<style scoped>\n",
              "    .dataframe tbody tr th:only-of-type {\n",
              "        vertical-align: middle;\n",
              "    }\n",
              "\n",
              "    .dataframe tbody tr th {\n",
              "        vertical-align: top;\n",
              "    }\n",
              "\n",
              "    .dataframe thead th {\n",
              "        text-align: right;\n",
              "    }\n",
              "</style>\n",
              "<table border=\"1\" class=\"dataframe\">\n",
              "  <thead>\n",
              "    <tr style=\"text-align: right;\">\n",
              "      <th></th>\n",
              "      <th>ClassId</th>\n",
              "      <th>SignName</th>\n",
              "    </tr>\n",
              "  </thead>\n",
              "  <tbody>\n",
              "    <tr>\n",
              "      <th>0</th>\n",
              "      <td>0</td>\n",
              "      <td>Speed limit (20km/h)</td>\n",
              "    </tr>\n",
              "    <tr>\n",
              "      <th>1</th>\n",
              "      <td>1</td>\n",
              "      <td>Speed limit (30km/h)</td>\n",
              "    </tr>\n",
              "    <tr>\n",
              "      <th>2</th>\n",
              "      <td>2</td>\n",
              "      <td>Speed limit (50km/h)</td>\n",
              "    </tr>\n",
              "    <tr>\n",
              "      <th>3</th>\n",
              "      <td>3</td>\n",
              "      <td>Speed limit (60km/h)</td>\n",
              "    </tr>\n",
              "    <tr>\n",
              "      <th>4</th>\n",
              "      <td>4</td>\n",
              "      <td>Speed limit (70km/h)</td>\n",
              "    </tr>\n",
              "    <tr>\n",
              "      <th>5</th>\n",
              "      <td>5</td>\n",
              "      <td>Speed limit (80km/h)</td>\n",
              "    </tr>\n",
              "    <tr>\n",
              "      <th>6</th>\n",
              "      <td>6</td>\n",
              "      <td>End of speed limit (80km/h)</td>\n",
              "    </tr>\n",
              "    <tr>\n",
              "      <th>7</th>\n",
              "      <td>7</td>\n",
              "      <td>Speed limit (100km/h)</td>\n",
              "    </tr>\n",
              "    <tr>\n",
              "      <th>8</th>\n",
              "      <td>8</td>\n",
              "      <td>Speed limit (120km/h)</td>\n",
              "    </tr>\n",
              "    <tr>\n",
              "      <th>9</th>\n",
              "      <td>9</td>\n",
              "      <td>No passing</td>\n",
              "    </tr>\n",
              "    <tr>\n",
              "      <th>10</th>\n",
              "      <td>10</td>\n",
              "      <td>No passing for vechiles over 3.5 metric tons</td>\n",
              "    </tr>\n",
              "    <tr>\n",
              "      <th>11</th>\n",
              "      <td>11</td>\n",
              "      <td>Right-of-way at the next intersection</td>\n",
              "    </tr>\n",
              "    <tr>\n",
              "      <th>12</th>\n",
              "      <td>12</td>\n",
              "      <td>Priority road</td>\n",
              "    </tr>\n",
              "    <tr>\n",
              "      <th>13</th>\n",
              "      <td>13</td>\n",
              "      <td>Yield</td>\n",
              "    </tr>\n",
              "    <tr>\n",
              "      <th>14</th>\n",
              "      <td>14</td>\n",
              "      <td>Stop</td>\n",
              "    </tr>\n",
              "    <tr>\n",
              "      <th>15</th>\n",
              "      <td>15</td>\n",
              "      <td>No vechiles</td>\n",
              "    </tr>\n",
              "    <tr>\n",
              "      <th>16</th>\n",
              "      <td>16</td>\n",
              "      <td>Vechiles over 3.5 metric tons prohibited</td>\n",
              "    </tr>\n",
              "    <tr>\n",
              "      <th>17</th>\n",
              "      <td>17</td>\n",
              "      <td>No entry</td>\n",
              "    </tr>\n",
              "    <tr>\n",
              "      <th>18</th>\n",
              "      <td>18</td>\n",
              "      <td>General caution</td>\n",
              "    </tr>\n",
              "    <tr>\n",
              "      <th>19</th>\n",
              "      <td>19</td>\n",
              "      <td>Dangerous curve to the left</td>\n",
              "    </tr>\n",
              "    <tr>\n",
              "      <th>20</th>\n",
              "      <td>20</td>\n",
              "      <td>Dangerous curve to the right</td>\n",
              "    </tr>\n",
              "    <tr>\n",
              "      <th>21</th>\n",
              "      <td>21</td>\n",
              "      <td>Double curve</td>\n",
              "    </tr>\n",
              "    <tr>\n",
              "      <th>22</th>\n",
              "      <td>22</td>\n",
              "      <td>Bumpy road</td>\n",
              "    </tr>\n",
              "    <tr>\n",
              "      <th>23</th>\n",
              "      <td>23</td>\n",
              "      <td>Slippery road</td>\n",
              "    </tr>\n",
              "    <tr>\n",
              "      <th>24</th>\n",
              "      <td>24</td>\n",
              "      <td>Road narrows on the right</td>\n",
              "    </tr>\n",
              "    <tr>\n",
              "      <th>25</th>\n",
              "      <td>25</td>\n",
              "      <td>Road work</td>\n",
              "    </tr>\n",
              "    <tr>\n",
              "      <th>26</th>\n",
              "      <td>26</td>\n",
              "      <td>Traffic signals</td>\n",
              "    </tr>\n",
              "    <tr>\n",
              "      <th>27</th>\n",
              "      <td>27</td>\n",
              "      <td>Pedestrians</td>\n",
              "    </tr>\n",
              "    <tr>\n",
              "      <th>28</th>\n",
              "      <td>28</td>\n",
              "      <td>Children crossing</td>\n",
              "    </tr>\n",
              "    <tr>\n",
              "      <th>29</th>\n",
              "      <td>29</td>\n",
              "      <td>Bicycles crossing</td>\n",
              "    </tr>\n",
              "    <tr>\n",
              "      <th>30</th>\n",
              "      <td>30</td>\n",
              "      <td>Beware of ice/snow</td>\n",
              "    </tr>\n",
              "    <tr>\n",
              "      <th>31</th>\n",
              "      <td>31</td>\n",
              "      <td>Wild animals crossing</td>\n",
              "    </tr>\n",
              "    <tr>\n",
              "      <th>32</th>\n",
              "      <td>32</td>\n",
              "      <td>End of all speed and passing limits</td>\n",
              "    </tr>\n",
              "    <tr>\n",
              "      <th>33</th>\n",
              "      <td>33</td>\n",
              "      <td>Turn right ahead</td>\n",
              "    </tr>\n",
              "    <tr>\n",
              "      <th>34</th>\n",
              "      <td>34</td>\n",
              "      <td>Turn left ahead</td>\n",
              "    </tr>\n",
              "    <tr>\n",
              "      <th>35</th>\n",
              "      <td>35</td>\n",
              "      <td>Ahead only</td>\n",
              "    </tr>\n",
              "    <tr>\n",
              "      <th>36</th>\n",
              "      <td>36</td>\n",
              "      <td>Go straight or right</td>\n",
              "    </tr>\n",
              "    <tr>\n",
              "      <th>37</th>\n",
              "      <td>37</td>\n",
              "      <td>Go straight or left</td>\n",
              "    </tr>\n",
              "    <tr>\n",
              "      <th>38</th>\n",
              "      <td>38</td>\n",
              "      <td>Keep right</td>\n",
              "    </tr>\n",
              "    <tr>\n",
              "      <th>39</th>\n",
              "      <td>39</td>\n",
              "      <td>Keep left</td>\n",
              "    </tr>\n",
              "    <tr>\n",
              "      <th>40</th>\n",
              "      <td>40</td>\n",
              "      <td>Roundabout mandatory</td>\n",
              "    </tr>\n",
              "    <tr>\n",
              "      <th>41</th>\n",
              "      <td>41</td>\n",
              "      <td>End of no passing</td>\n",
              "    </tr>\n",
              "    <tr>\n",
              "      <th>42</th>\n",
              "      <td>42</td>\n",
              "      <td>End of no passing by vechiles over 3.5 metric ...</td>\n",
              "    </tr>\n",
              "  </tbody>\n",
              "</table>\n",
              "</div>"
            ],
            "text/plain": [
              "    ClassId                                           SignName\n",
              "0         0                               Speed limit (20km/h)\n",
              "1         1                               Speed limit (30km/h)\n",
              "2         2                               Speed limit (50km/h)\n",
              "3         3                               Speed limit (60km/h)\n",
              "4         4                               Speed limit (70km/h)\n",
              "5         5                               Speed limit (80km/h)\n",
              "6         6                        End of speed limit (80km/h)\n",
              "7         7                              Speed limit (100km/h)\n",
              "8         8                              Speed limit (120km/h)\n",
              "9         9                                         No passing\n",
              "10       10       No passing for vechiles over 3.5 metric tons\n",
              "11       11              Right-of-way at the next intersection\n",
              "12       12                                      Priority road\n",
              "13       13                                              Yield\n",
              "14       14                                               Stop\n",
              "15       15                                        No vechiles\n",
              "16       16           Vechiles over 3.5 metric tons prohibited\n",
              "17       17                                           No entry\n",
              "18       18                                    General caution\n",
              "19       19                        Dangerous curve to the left\n",
              "20       20                       Dangerous curve to the right\n",
              "21       21                                       Double curve\n",
              "22       22                                         Bumpy road\n",
              "23       23                                      Slippery road\n",
              "24       24                          Road narrows on the right\n",
              "25       25                                          Road work\n",
              "26       26                                    Traffic signals\n",
              "27       27                                        Pedestrians\n",
              "28       28                                  Children crossing\n",
              "29       29                                  Bicycles crossing\n",
              "30       30                                 Beware of ice/snow\n",
              "31       31                              Wild animals crossing\n",
              "32       32                End of all speed and passing limits\n",
              "33       33                                   Turn right ahead\n",
              "34       34                                    Turn left ahead\n",
              "35       35                                         Ahead only\n",
              "36       36                               Go straight or right\n",
              "37       37                                Go straight or left\n",
              "38       38                                         Keep right\n",
              "39       39                                          Keep left\n",
              "40       40                               Roundabout mandatory\n",
              "41       41                                  End of no passing\n",
              "42       42  End of no passing by vechiles over 3.5 metric ..."
            ]
          },
          "metadata": {
            "tags": []
          },
          "execution_count": 19
        }
      ]
    },
    {
      "cell_type": "code",
      "metadata": {
        "id": "cMxF9Vp1eymx",
        "colab_type": "code",
        "colab": {}
      },
      "source": [
        "num_of_samples = []\n",
        " \n",
        "cols = 5\n",
        "num_classes = len(np.unique(y_train_data))\n",
        " \n",
        "# fig, axs = plt.subplots(nrows=num_classes, ncols = cols, figsize=(5, 50))\n",
        "# fig.tight_layout()\n",
        "\n",
        "for i in range(cols):\n",
        "    for j, row in sign_names.iterrows():\n",
        "        x_selected = X_train_data[y_train_data == j]\n",
        "        # axs[j][i].imshow(x_selected[random.randint(0, len(x_selected - 1)), :, :], cmap=plt.get_cmap(\"gray\"))\n",
        "        # axs[j][i].axis(\"off\")\n",
        "        if i == 2:\n",
        "            # axs[j][i].set_title(str(j) + '-' + row['SignName'])\n",
        "            num_of_samples.append(len(x_selected))"
      ],
      "execution_count": 20,
      "outputs": []
    },
    {
      "cell_type": "code",
      "metadata": {
        "id": "pKJyzgf_phaF",
        "colab_type": "code",
        "colab": {
          "base_uri": "https://localhost:8080/",
          "height": 295
        },
        "outputId": "59a93f0a-4d90-4cdf-a873-c3290952217d"
      },
      "source": [
        "plt.figure(figsize=(12, 4))\n",
        "plt.bar(range(num_classes), num_of_samples)\n",
        "plt.title('Distribution of the train dataset')\n",
        "plt.xlabel('Class number')\n",
        "plt.ylabel('Number of images')\n",
        "plt.show()"
      ],
      "execution_count": 21,
      "outputs": [
        {
          "output_type": "display_data",
          "data": {
            "image/png": "[encoded data removed]",
            "text/plain": [
              "<Figure size 864x288 with 1 Axes>"
            ]
          },
          "metadata": {
            "tags": [],
            "needs_background": "light"
          }
        }
      ]
    },
    {
      "cell_type": "markdown",
      "metadata": {
        "id": "kJNJiAgws_Kv",
        "colab_type": "text"
      },
      "source": [
        "### The distribution is not equal thus we need to create some new samples"
      ]
    },
    {
      "cell_type": "code",
      "metadata": {
        "id": "4hI94Z_RrfwB",
        "colab_type": "code",
        "colab": {
          "base_uri": "https://localhost:8080/",
          "height": 34
        },
        "outputId": "0b427d08-a73d-4c3f-ecad-22e839588f0e"
      },
      "source": [
        "print(num_of_samples)"
      ],
      "execution_count": 22,
      "outputs": [
        {
          "output_type": "stream",
          "text": [
            "[180, 1980, 2010, 1260, 1770, 1650, 360, 1290, 1260, 1320, 1800, 1170, 1890, 1920, 690, 540, 360, 990, 1080, 180, 300, 270, 330, 450, 240, 1350, 540, 210, 480, 240, 390, 690, 210, 599, 360, 1080, 330, 180, 1860, 270, 300, 210, 210]\n"
          ],
          "name": "stdout"
        }
      ]
    },
    {
      "cell_type": "code",
      "metadata": {
        "id": "w8SCJ14aMbbd",
        "colab_type": "code",
        "colab": {
          "base_uri": "https://localhost:8080/",
          "height": 748
        },
        "outputId": "6483341f-4146-457e-81f4-dfc3259db431"
      },
      "source": [
        "max_samples = 3000\n",
        "\n",
        "for num_samples in num_of_samples:\n",
        "  print('Samples to create:', max_samples - num_samples)\n",
        "  # for i in range(max_samples - num_samples):\n",
        "    # create sample"
      ],
      "execution_count": 23,
      "outputs": [
        {
          "output_type": "stream",
          "text": [
            "Samples to create: 2820\n",
            "Samples to create: 1020\n",
            "Samples to create: 990\n",
            "Samples to create: 1740\n",
            "Samples to create: 1230\n",
            "Samples to create: 1350\n",
            "Samples to create: 2640\n",
            "Samples to create: 1710\n",
            "Samples to create: 1740\n",
            "Samples to create: 1680\n",
            "Samples to create: 1200\n",
            "Samples to create: 1830\n",
            "Samples to create: 1110\n",
            "Samples to create: 1080\n",
            "Samples to create: 2310\n",
            "Samples to create: 2460\n",
            "Samples to create: 2640\n",
            "Samples to create: 2010\n",
            "Samples to create: 1920\n",
            "Samples to create: 2820\n",
            "Samples to create: 2700\n",
            "Samples to create: 2730\n",
            "Samples to create: 2670\n",
            "Samples to create: 2550\n",
            "Samples to create: 2760\n",
            "Samples to create: 1650\n",
            "Samples to create: 2460\n",
            "Samples to create: 2790\n",
            "Samples to create: 2520\n",
            "Samples to create: 2760\n",
            "Samples to create: 2610\n",
            "Samples to create: 2310\n",
            "Samples to create: 2790\n",
            "Samples to create: 2401\n",
            "Samples to create: 2640\n",
            "Samples to create: 1920\n",
            "Samples to create: 2670\n",
            "Samples to create: 2820\n",
            "Samples to create: 1140\n",
            "Samples to create: 2730\n",
            "Samples to create: 2700\n",
            "Samples to create: 2790\n",
            "Samples to create: 2790\n"
          ],
          "name": "stdout"
        }
      ]
    },
    {
      "cell_type": "markdown",
      "metadata": {
        "id": "ss_YbhRHsnaL",
        "colab_type": "text"
      },
      "source": [
        "# Data augmentation"
      ]
    },
    {
      "cell_type": "markdown",
      "metadata": {
        "id": "WqzO6qBMtDnI",
        "colab_type": "text"
      },
      "source": [
        "- ### Rotating"
      ]
    },
    {
      "cell_type": "code",
      "metadata": {
        "id": "J9nJ5pZAsnF4",
        "colab_type": "code",
        "colab": {}
      },
      "source": [
        "def rotate_image(image, max_angle=15):\n",
        "  return rotate(image, np.random.uniform(-max_angle, max_angle), mode='edge')"
      ],
      "execution_count": 24,
      "outputs": []
    },
    {
      "cell_type": "code",
      "metadata": {
        "id": "ca40Kid5tfv8",
        "colab_type": "code",
        "colab": {
          "base_uri": "https://localhost:8080/",
          "height": 283
        },
        "outputId": "45748c1c-8b2e-4b74-b2c6-2b73a3c0e1b2"
      },
      "source": [
        "plt.imshow(rotate_image(X_train_data[0]))"
      ],
      "execution_count": 25,
      "outputs": [
        {
          "output_type": "execute_result",
          "data": {
            "text/plain": [
              "<matplotlib.image.AxesImage at 0x7fcf24b0dbe0>"
            ]
          },
          "metadata": {
            "tags": []
          },
          "execution_count": 25
        },
        {
          "output_type": "display_data",
          "data": {
            "image/png": "[encoded data removed]",
            "text/plain": [
              "<Figure size 432x288 with 1 Axes>"
            ]
          },
          "metadata": {
            "tags": [],
            "needs_background": "light"
          }
        }
      ]
    },
    {
      "cell_type": "markdown",
      "metadata": {
        "id": "5A19AaAhtF4n",
        "colab_type": "text"
      },
      "source": [
        "- ### Translation (moving image)"
      ]
    },
    {
      "cell_type": "code",
      "metadata": {
        "id": "SFn6ZdcntSjr",
        "colab_type": "code",
        "colab": {}
      },
      "source": [
        "def translate_image(image, max_trans=10, height=32, width=32):\n",
        "  translate_x = max_trans*np.random.uniform() - max_trans/2\n",
        "  translate_y = max_trans*np.random.uniform() - max_trans/2\n",
        "  translation_mat = np.float32([[1,0,translate_x],[0,1,translate_y]])\n",
        "  translation = cv2.warpAffine(image, translation_mat, (height, width))\n",
        "  return translation"
      ],
      "execution_count": 26,
      "outputs": []
    },
    {
      "cell_type": "code",
      "metadata": {
        "id": "FdEDAB7Rtgth",
        "colab_type": "code",
        "colab": {
          "base_uri": "https://localhost:8080/",
          "height": 283
        },
        "outputId": "e8f52917-6d03-40f3-df6f-0fd1bb27f623"
      },
      "source": [
        "plt.imshow(translate_image(X_train_data[0]))"
      ],
      "execution_count": 27,
      "outputs": [
        {
          "output_type": "execute_result",
          "data": {
            "text/plain": [
              "<matplotlib.image.AxesImage at 0x7fcf24a7b6d8>"
            ]
          },
          "metadata": {
            "tags": []
          },
          "execution_count": 27
        },
        {
          "output_type": "display_data",
          "data": {
            "image/png": "[encoded data removed]",
            "text/plain": [
              "<Figure size 432x288 with 1 Axes>"
            ]
          },
          "metadata": {
            "tags": [],
            "needs_background": "light"
          }
        }
      ]
    },
    {
      "cell_type": "markdown",
      "metadata": {
        "id": "jxZYRBBvtTPe",
        "colab_type": "text"
      },
      "source": [
        "- ### Projection transform (stretching)"
      ]
    },
    {
      "cell_type": "code",
      "metadata": {
        "id": "qaxcWMMqtcry",
        "colab_type": "code",
        "colab": {}
      },
      "source": [
        "def projection_transform(image, max_warp=0.6, height=32, width=32):\n",
        "    #Warp Location\n",
        "    d = height * 0.3 * np.random.uniform(0,max_warp)\n",
        "    \n",
        "    #Warp co-ordinates\n",
        "    tl_top = np.random.uniform(-d, d)     # Top left corner, top margin\n",
        "    tl_left = np.random.uniform(-d, d)    # Top left corner, left margin\n",
        "    bl_bottom = np.random.uniform(-d, d)  # Bottom left corner, bottom margin\n",
        "    bl_left = np.random.uniform(-d, d)    # Bottom left corner, left margin\n",
        "    tr_top = np.random.uniform(-d, d)     # Top right corner, top margin\n",
        "    tr_right = np.random.uniform(-d, d)   # Top right corner, right margin\n",
        "    br_bottom = np.random.uniform(-d, d)  # Bottom right corner, bottom margin\n",
        "    br_right = np.random.uniform(-d, d)   # Bottom right corner, right margin\n",
        "        \n",
        "    ##Apply Projection\n",
        "    transform = ProjectiveTransform()\n",
        "    transform.estimate(np.array((\n",
        "                (tl_left, tl_top),\n",
        "                (bl_left, height - bl_bottom),\n",
        "                (height - br_right, height - br_bottom),\n",
        "                (height - tr_right, tr_top)\n",
        "            )), np.array((\n",
        "                (0, 0),\n",
        "                (0, height),\n",
        "                (height, height),\n",
        "                (height, 0)\n",
        "            )))\n",
        "    output_image = warp(image, transform, output_shape=(height, width), order = 1, mode = 'edge')\n",
        "    return output_image"
      ],
      "execution_count": 28,
      "outputs": []
    },
    {
      "cell_type": "code",
      "metadata": {
        "id": "XwR2ch-btnbd",
        "colab_type": "code",
        "colab": {
          "base_uri": "https://localhost:8080/",
          "height": 283
        },
        "outputId": "dab27989-dfa8-4312-d136-c4210eb315a6"
      },
      "source": [
        "plt.imshow(projection_transform(X_train_data[0]))"
      ],
      "execution_count": 29,
      "outputs": [
        {
          "output_type": "execute_result",
          "data": {
            "text/plain": [
              "<matplotlib.image.AxesImage at 0x7fcf24a59d68>"
            ]
          },
          "metadata": {
            "tags": []
          },
          "execution_count": 29
        },
        {
          "output_type": "display_data",
          "data": {
            "image/png": "[encoded data removed]",
            "text/plain": [
              "<Figure size 432x288 with 1 Axes>"
            ]
          },
          "metadata": {
            "tags": [],
            "needs_background": "light"
          }
        }
      ]
    },
    {
      "cell_type": "markdown",
      "metadata": {
        "id": "scUjMkHmtp-1",
        "colab_type": "text"
      },
      "source": [
        "## Transformation in a pipeline"
      ]
    },
    {
      "cell_type": "code",
      "metadata": {
        "id": "9350hUcutwNN",
        "colab_type": "code",
        "colab": {}
      },
      "source": [
        "def transform_image_pipeline(image, max_angle=15, max_trans=5, max_warp=0.8):\n",
        "  height, width, channels = image.shape\n",
        "\n",
        "  # Rotating image\n",
        "  rotated_image = rotate_image(image, max_angle)\n",
        "\n",
        "  # Translating image\n",
        "  translated_image = translate_image(rotated_image, max_trans, height, width)\n",
        "\n",
        "  # Project image\n",
        "  projected_image = projection_transform(translated_image, max_warp, height, width)\n",
        "\n",
        "  return projected_image\n",
        "\n",
        "\n",
        "def data_augment(image):\n",
        "  rows= image.shape[0]\n",
        "  cols = image.shape[1]\n",
        "  \n",
        "  # Rotating\n",
        "  M_rot = cv2.getRotationMatrix2D((cols/2,rows/2),10,1)\n",
        "  \n",
        "  # Translating\n",
        "  M_trans = np.float32([[1,0,3],[0,1,6]])\n",
        "\n",
        "  img = cv2.warpAffine(image,M_rot,(cols,rows))\n",
        "  img = cv2.warpAffine(img,M_trans,(cols,rows))\n",
        "  \n",
        "  # Bilateral filtering\n",
        "  img = cv2.bilateralFilter(img, 9, 75, 75)\n",
        "\n",
        "  return img"
      ],
      "execution_count": 30,
      "outputs": []
    },
    {
      "cell_type": "code",
      "metadata": {
        "id": "TKUnJdRjtzIk",
        "colab_type": "code",
        "colab": {
          "base_uri": "https://localhost:8080/",
          "height": 283
        },
        "outputId": "35cd8dc7-707e-40c2-d03f-9a9d8665c98f"
      },
      "source": [
        "plt.imshow(data_augment(X_train_data[0]))"
      ],
      "execution_count": 31,
      "outputs": [
        {
          "output_type": "execute_result",
          "data": {
            "text/plain": [
              "<matplotlib.image.AxesImage at 0x7fcf221c55c0>"
            ]
          },
          "metadata": {
            "tags": []
          },
          "execution_count": 31
        },
        {
          "output_type": "display_data",
          "data": {
            "image/png": "[encoded data removed]",
            "text/plain": [
              "<Figure size 432x288 with 1 Axes>"
            ]
          },
          "metadata": {
            "tags": [],
            "needs_background": "light"
          }
        }
      ]
    },
    {
      "cell_type": "markdown",
      "metadata": {
        "id": "fLjCGGfRt7KJ",
        "colab_type": "text"
      },
      "source": [
        "## Creating new samples"
      ]
    },
    {
      "cell_type": "code",
      "metadata": {
        "id": "IylEmHSdt7h-",
        "colab_type": "code",
        "colab": {}
      },
      "source": [
        "def create_new_samples(X_train_data, y_train, n_classes):\n",
        "  X_train_aug = X_train_data.copy()\n",
        "  y_train_aug = y_train.copy()\n",
        "\n",
        "  X_aug = []\n",
        "  Y_aug = []\n",
        "\n",
        "  for i in range(0, n_classes):\n",
        "    class_records = np.where(y_train==i)[0].size\n",
        "    max_records = 3000  # max(num_samples)\n",
        "    if class_records != max_records:\n",
        "        ovr_sample = max_records - class_records\n",
        "        samples = X_train_data[np.where(y_train==i)[0]]\n",
        "        X_aug_temp = []\n",
        "        Y_aug_temp = [i] * ovr_sample\n",
        "        print('Class:', i)\n",
        "        \n",
        "        for x in range(ovr_sample):\n",
        "            img = samples[x % class_records]\n",
        "            trans_img = data_augment(img)\n",
        "            X_aug_temp.append(trans_img)\n",
        "            \n",
        "        X_train_aug = np.concatenate((X_train_aug, X_aug_temp), axis=0)\n",
        "        y_train_aug = np.concatenate((y_train_aug, Y_aug_temp)) \n",
        "        \n",
        "        Y_aug = Y_aug + Y_aug_temp\n",
        "        X_aug = X_aug + X_aug_temp\n",
        "  return X_train_aug, y_train_aug"
      ],
      "execution_count": 32,
      "outputs": []
    },
    {
      "cell_type": "code",
      "metadata": {
        "id": "rDNCft5juJ72",
        "colab_type": "code",
        "colab": {}
      },
      "source": [
        "# # RUN IF NECESSARY\n",
        "\n",
        "# X_train_aug, y_train_aug = create_new_samples(X_train_data, y_train_data, num_classes)\n",
        "\n",
        "# X_test_aug, y_test_aug = create_new_samples(X_test_data, y_test_data, num_classes)\n",
        "# X_val_aug, y_val_aug = create_new_samples(X_val_data, y_val_data, num_classes)"
      ],
      "execution_count": 33,
      "outputs": []
    },
    {
      "cell_type": "code",
      "metadata": {
        "id": "xdsne-Equ-Za",
        "colab_type": "code",
        "colab": {}
      },
      "source": [
        "# a = 3\n",
        "# for j in range(10):\n",
        "#   fig = plt.figure(figsize = (10, 1))\n",
        "#   fig.subplots_adjust(left = 0, right = 1, bottom = 0, top = 1, hspace = 0.05, wspace = 0.05)\n",
        "#   j=1\n",
        "#   a+=20\n",
        "#   for i in range(10):\n",
        "#       axis = fig.add_subplot(1, 10, i + 1, xticks=[], yticks=[])\n",
        "#       axis.imshow(X_train_aug[i+120000 + j + a])\n",
        "#       j+=20"
      ],
      "execution_count": 34,
      "outputs": []
    },
    {
      "cell_type": "markdown",
      "metadata": {
        "id": "lPeePKNCuVzR",
        "colab_type": "text"
      },
      "source": [
        "## Saving data"
      ]
    },
    {
      "cell_type": "code",
      "metadata": {
        "id": "pR3MBofKuTYX",
        "colab_type": "code",
        "colab": {}
      },
      "source": [
        "# # RUN IF NECESSARY\n",
        "\n",
        "# with open('aug_data/augmented_X_train_data.p', 'wb') as fx:\n",
        "#   pickle.dump(X_train_aug, fx)\n",
        "\n",
        "# with open('aug_data/augmented_y_train_data.p', 'wb') as fy:\n",
        "#   pickle.dump(y_train_aug, fy)"
      ],
      "execution_count": 35,
      "outputs": []
    },
    {
      "cell_type": "markdown",
      "metadata": {
        "id": "pUCtal63ubZK",
        "colab_type": "text"
      },
      "source": [
        "## Loading newly created data"
      ]
    },
    {
      "cell_type": "code",
      "metadata": {
        "id": "DGScs3djudwS",
        "colab_type": "code",
        "colab": {
          "base_uri": "https://localhost:8080/",
          "height": 34
        },
        "outputId": "71f32be7-45a7-42a0-cc15-d163b0e7ed6d"
      },
      "source": [
        "pickle_aug_files = get_pickle_files_names('aug_data/')\n",
        "pickle_aug_files"
      ],
      "execution_count": 36,
      "outputs": [
        {
          "output_type": "execute_result",
          "data": {
            "text/plain": [
              "['aug_data/augmented_X_train_data.p', 'aug_data/augmented_y_train_data.p']"
            ]
          },
          "metadata": {
            "tags": []
          },
          "execution_count": 36
        }
      ]
    },
    {
      "cell_type": "code",
      "metadata": {
        "id": "VGgMJN1Au0Cz",
        "colab_type": "code",
        "colab": {}
      },
      "source": [
        "# # Loading all data\n",
        "X_train_aug = load_pickle_file(pickle_aug_files[0])\n",
        "y_train_aug = load_pickle_file(pickle_aug_files[1])\n",
        "\n",
        "# # Checking the shapes\n",
        "print(X_train_aug.shape)\n",
        "print(y_train_aug.shape)"
      ],
      "execution_count": 37,
      "outputs": []
    },
    {
      "cell_type": "markdown",
      "metadata": {
        "id": "Y6Gz3lAPXNJ7",
        "colab_type": "text"
      },
      "source": [
        "# Data preprocessing"
      ]
    },
    {
      "cell_type": "code",
      "metadata": {
        "id": "pUs8DEHkM24E",
        "colab_type": "code",
        "colab": {}
      },
      "source": [
        "def convert_to_grayscale(image):\n",
        "  \"\"\"Converts an image to grayscale\n",
        "  \n",
        "  Parameters\n",
        "  ----------\n",
        "  image -- a numpy array represeting an image wth 3 color channels\n",
        "\n",
        "  Returns\n",
        "  -------\n",
        "  image in grayscale without a color channel;\n",
        "  \"\"\"\n",
        "  \n",
        "  return cv2.cvtColor(image.astype('uint8') * 255, cv2.COLOR_BGR2GRAY)\n",
        "\n",
        "\n",
        "def normalize_image(image):\n",
        "  \"\"\"Normalizes an image by dividing it by 255\n",
        "  \n",
        "  Parameters\n",
        "  ----------\n",
        "  image -- a numpy array representing an image\n",
        "\n",
        "  Returns\n",
        "  -------\n",
        "  Normalized image  \n",
        "  \"\"\"\n",
        "  return image / 255\n",
        "\n",
        "\n",
        "def histogram_equalization(image):\n",
        "  \"\"\"\n",
        "  Parameters\n",
        "  ----------\n",
        "\n",
        "  image -- a numpy array representing an image in grayscale (without a color channel)\n",
        "\n",
        "  Returns\n",
        "  -------\n",
        "\n",
        "  image of equalized grayscale\n",
        "  \"\"\"\n",
        "  \n",
        "  return cv2.equalizeHist(image)\n",
        "\n",
        "\n",
        "def preprocess_image(image):\n",
        "  \"\"\"Applies grayscale transformation, equalization and normalization to an image\n",
        "\n",
        "  Parameters\n",
        "  ----------\n",
        "\n",
        "  image -- a numpy array representing an image\n",
        "\n",
        "  Returns\n",
        "  -------\n",
        "  preprocessed image\n",
        "\n",
        "  \"\"\"\n",
        "  gray = convert_to_grayscale(image)\n",
        "  equalized = histogram_equalization(gray)\n",
        "  normalized = normalize_image(equalized)\n",
        "  \n",
        "  return normalized"
      ],
      "execution_count": 38,
      "outputs": []
    },
    {
      "cell_type": "markdown",
      "metadata": {
        "id": "CLPTz-HjXQkk",
        "colab_type": "text"
      },
      "source": [
        "### Grayscale"
      ]
    },
    {
      "cell_type": "code",
      "metadata": {
        "id": "J283fNINCCUt",
        "colab_type": "code",
        "colab": {}
      },
      "source": [
        "plt.imshow(X_train_aug[120000], cmap='gray')\n",
        "plt.axis('off')"
      ],
      "execution_count": null,
      "outputs": []
    },
    {
      "cell_type": "code",
      "metadata": {
        "id": "wFavxZ5MOszf",
        "colab_type": "code",
        "colab": {}
      },
      "source": [
        "gray_example = convert_to_grayscale(X_train_aug[120000])"
      ],
      "execution_count": null,
      "outputs": []
    },
    {
      "cell_type": "code",
      "metadata": {
        "id": "rdnwS2PoO2i6",
        "colab_type": "code",
        "colab": {}
      },
      "source": [
        "plt.imshow(gray_example, cmap='gray')\n",
        "plt.axis('off')\n",
        "print(gray_example.shape)"
      ],
      "execution_count": null,
      "outputs": []
    },
    {
      "cell_type": "markdown",
      "metadata": {
        "id": "cvZY0GnRXSNU",
        "colab_type": "text"
      },
      "source": [
        "### Equalization"
      ]
    },
    {
      "cell_type": "code",
      "metadata": {
        "id": "MgbK1baFP_34",
        "colab_type": "code",
        "colab": {}
      },
      "source": [
        "eh_image = histogram_equalization(gray_example)"
      ],
      "execution_count": null,
      "outputs": []
    },
    {
      "cell_type": "code",
      "metadata": {
        "id": "BOh8DtXjRktW",
        "colab_type": "code",
        "colab": {}
      },
      "source": [
        "plt.imshow(eh_image, cmap='gray')\n",
        "plt.axis('off')\n",
        "print(eh_image.shape)"
      ],
      "execution_count": null,
      "outputs": []
    },
    {
      "cell_type": "markdown",
      "metadata": {
        "id": "IHmcU2I2XXRq",
        "colab_type": "text"
      },
      "source": [
        "### Normalization"
      ]
    },
    {
      "cell_type": "code",
      "metadata": {
        "id": "zzRvy0HqXZHR",
        "colab_type": "code",
        "colab": {}
      },
      "source": [
        "normalized_example = normalize_image(gray_example)\n",
        "\n",
        "plt.imshow(normalized_example, cmap='gray')\n",
        "plt.axis('off')\n",
        "print(normalized_example.shape)"
      ],
      "execution_count": null,
      "outputs": []
    },
    {
      "cell_type": "markdown",
      "metadata": {
        "id": "LF_3LX2JXZkJ",
        "colab_type": "text"
      },
      "source": [
        "### Applying to the whole dataset"
      ]
    },
    {
      "cell_type": "code",
      "metadata": {
        "id": "GeWc0YDFUZjO",
        "colab_type": "code",
        "colab": {}
      },
      "source": [
        "X_train_preprocessed = np.array(list(map(preprocess_image, X_train_aug)))\n",
        "X_test_preprocessed = np.array(list(map(preprocess_image, X_test_data)))\n",
        "X_val_preprocessed = np.array(list(map(preprocess_image, X_val_data)))"
      ],
      "execution_count": null,
      "outputs": []
    },
    {
      "cell_type": "code",
      "metadata": {
        "id": "Yo4_kMiAWwVX",
        "colab_type": "code",
        "colab": {}
      },
      "source": [
        "plt.imshow(X_train_preprocessed[random.randint(0, len(X_train_preprocessed - 1))], cmap='gray')\n",
        "plt.axis('off')"
      ],
      "execution_count": null,
      "outputs": []
    },
    {
      "cell_type": "markdown",
      "metadata": {
        "id": "OY9_TBZ3XInO",
        "colab_type": "text"
      },
      "source": [
        "### Adding depth"
      ]
    },
    {
      "cell_type": "code",
      "metadata": {
        "id": "lcbsDr3C6dkH",
        "colab_type": "code",
        "colab": {}
      },
      "source": [
        "print(X_train_preprocessed.shape)"
      ],
      "execution_count": null,
      "outputs": []
    },
    {
      "cell_type": "code",
      "metadata": {
        "id": "89p4ztvSW4ld",
        "colab_type": "code",
        "colab": {}
      },
      "source": [
        "X_train = X_train_preprocessed.reshape((129000, 32, 32, 1))\n",
        "X_test = X_test_preprocessed.reshape((12630, 32, 32, 1))\n",
        "X_val = X_val_preprocessed.reshape((4410, 32, 32, 1))"
      ],
      "execution_count": null,
      "outputs": []
    },
    {
      "cell_type": "code",
      "metadata": {
        "id": "WAQC9QmKYSuo",
        "colab_type": "code",
        "colab": {}
      },
      "source": [
        "print(X_train.shape)\n",
        "print(X_test.shape)\n",
        "print(X_val.shape)"
      ],
      "execution_count": null,
      "outputs": []
    },
    {
      "cell_type": "markdown",
      "metadata": {
        "id": "5xfHrdJyYY_Y",
        "colab_type": "text"
      },
      "source": [
        "### OneHotEncoding labels"
      ]
    },
    {
      "cell_type": "code",
      "metadata": {
        "id": "ClwyfDOlYog0",
        "colab_type": "code",
        "colab": {}
      },
      "source": [
        "y_train_aug.shape"
      ],
      "execution_count": null,
      "outputs": []
    },
    {
      "cell_type": "code",
      "metadata": {
        "id": "vjBcaFhSYX2V",
        "colab_type": "code",
        "colab": {}
      },
      "source": [
        "y_train = to_categorical(y_train_aug, num_classes)"
      ],
      "execution_count": null,
      "outputs": []
    },
    {
      "cell_type": "code",
      "metadata": {
        "id": "KMJFuJbnY_K1",
        "colab_type": "code",
        "colab": {}
      },
      "source": [
        "y_train.shape"
      ],
      "execution_count": null,
      "outputs": []
    },
    {
      "cell_type": "markdown",
      "metadata": {
        "id": "J3_ZYZbHaM1c",
        "colab_type": "text"
      },
      "source": [
        "### Creating model"
      ]
    },
    {
      "cell_type": "code",
      "metadata": {
        "id": "n3zj4Jyv_Srz",
        "colab_type": "code",
        "colab": {}
      },
      "source": [
        "def create_second_model():\n",
        "\n",
        "  model = Sequential()\n",
        "\n",
        "  # Convolutional layer - extracting features\n",
        "  model.add(Conv2D(filters=60, kernel_size=(5, 5), activation='relu', input_shape=(32, 32, 1), padding='same'))\n",
        "  # now it will have the shape of (28, 28, 30)\n",
        "  # 5 * 5 * 30 + 30 = 780 adjustable parameters\n",
        "  model.add(Conv2D(filters=60, kernel_size=(5, 5), activation='relu'))\n",
        "\n",
        "  # Pooling layers - downsampling\n",
        "  model.add(MaxPooling2D(pool_size=(2, 2)))  \n",
        "  # scaling the image to a 2 times smaller size (14, 14, 30)\n",
        "  # 3 * 3 * 15 * 30 + 15 = 4065 adjustable parameters\n",
        "\n",
        "  # Conv\n",
        "  model.add(Conv2D(filters=30, kernel_size=(3, 3), activation='relu'))\n",
        "  model.add(Conv2D(filters=30, kernel_size=(3, 3), activation='relu'))\n",
        "  # now it will have the shape of (12, 12, 15)\n",
        "\n",
        "  # Pooling\n",
        "  model.add(MaxPooling2D(pool_size=(2, 2)))  \n",
        "  # producing an image of size (6, 6, 15)\n",
        "\n",
        "  # Flattening\n",
        "  model.add(Flatten())  # reshaping an image from (6, 6, 15) to (6*6*15, 1)\n",
        "\n",
        "  # Dense layer\n",
        "  model.add(Dense(units=700, activation='relu'))\n",
        "  \n",
        "  # Dropout layer\n",
        "  model.add(Dropout(0.5))\n",
        "  \n",
        "  # Output layer\n",
        "  model.add(Dense(units=num_classes, activation='softmax'))\n",
        "  \n",
        "  # Displaying model summary\n",
        "  print(model.summary())\n",
        "\n",
        "  # Compile model\n",
        "  model.compile(Adam(lr=0.001), loss='categorical_crossentropy', metrics=['accuracy'])\n",
        "\n",
        "  return model"
      ],
      "execution_count": null,
      "outputs": []
    },
    {
      "cell_type": "code",
      "metadata": {
        "id": "yobEpXNQb8yI",
        "colab_type": "code",
        "colab": {}
      },
      "source": [
        "model = create_second_model()"
      ],
      "execution_count": null,
      "outputs": []
    },
    {
      "cell_type": "code",
      "metadata": {
        "id": "gGjMJ9nKK9jk",
        "colab_type": "code",
        "colab": {}
      },
      "source": [
        "checkpoint_path = \"training_1/cp.ckpt\"\n",
        "checkpoint_dir = os.path.dirname(checkpoint_path)\n",
        "\n",
        "# Create a callback that saves the model's weights\n",
        "cp_callback = ModelCheckpoint(filepath=checkpoint_path,\n",
        "                                                 save_weights_only=True,\n",
        "                                                 verbose=1)"
      ],
      "execution_count": null,
      "outputs": []
    },
    {
      "cell_type": "code",
      "metadata": {
        "id": "93imGwj8h__z",
        "colab_type": "code",
        "colab": {}
      },
      "source": [
        "history = model.fit(X_train,\n",
        "                    y_train, \n",
        "                    epochs=12, \n",
        "                    validation_data=(X_val, y_val), \n",
        "                    batch_size=500, \n",
        "                    verbose=1, \n",
        "                    shuffle=1\n",
        "                    )"
      ],
      "execution_count": null,
      "outputs": []
    },
    {
      "cell_type": "code",
      "metadata": {
        "id": "eMw9wYOPlytX",
        "colab_type": "code",
        "colab": {}
      },
      "source": [
        "plt.plot(history.history['accuracy'])\n",
        "plt.plot(history.history['val_accuracy'])\n",
        "\n",
        "plt.xlabel('Epoch')\n",
        "plt.title('Accuracy')\n",
        "plt.legend(['training', 'validation'])"
      ],
      "execution_count": null,
      "outputs": []
    },
    {
      "cell_type": "code",
      "metadata": {
        "id": "hXKm47OEtGzJ",
        "colab_type": "code",
        "colab": {}
      },
      "source": [
        "plt.plot(history.history['loss'])\n",
        "plt.plot(history.history['val_loss'])\n",
        "\n",
        "plt.xlabel('Epoch')\n",
        "plt.title('Loss')\n",
        "plt.legend(['training', 'validation'])"
      ],
      "execution_count": null,
      "outputs": []
    },
    {
      "cell_type": "code",
      "metadata": {
        "id": "FUPACC_pjcmY",
        "colab_type": "code",
        "colab": {}
      },
      "source": [
        "score, acc = model.evaluate(X_test, y_test, verbose=0)\n",
        "\n",
        "print('Test score:', score)\n",
        "print('Test accuracy:', acc)"
      ],
      "execution_count": null,
      "outputs": []
    },
    {
      "cell_type": "code",
      "metadata": {
        "id": "LISSTdUSQibG",
        "colab_type": "code",
        "colab": {}
      },
      "source": [
        "def get_pic_names(path=''):\n",
        "  return glob.glob(path + '/*.jpg')"
      ],
      "execution_count": null,
      "outputs": []
    },
    {
      "cell_type": "code",
      "metadata": {
        "id": "vBj6vWG6Q7OT",
        "colab_type": "code",
        "colab": {}
      },
      "source": [
        "test_pics = get_pic_names('test_sign_images')\n",
        "test_pics"
      ],
      "execution_count": null,
      "outputs": []
    },
    {
      "cell_type": "code",
      "metadata": {
        "id": "hyrudQ3fQ-s-",
        "colab_type": "code",
        "colab": {}
      },
      "source": [
        "fig, ax = plt.subplots(nrows=len(test_pics), ncols = 1, figsize=(5, 50))\n",
        "fig.tight_layout()\n",
        "\n",
        "for i, test_pic in enumerate(test_pics):\n",
        "  img = cv2.imread(test_pic)\n",
        "\n",
        "  img = np.asarray(img)\n",
        "  resized_img = cv2.resize(img, (32, 32))\n",
        "  preprocessed_img = preprocess_image(resized_img)\n",
        "  # plt.imshow(preprocessed_img, cmap = plt.get_cmap('gray'))\n",
        "  print(preprocessed_img.shape)\n",
        "\n",
        "  ax[i].imshow(preprocessed_img, cmap=plt.get_cmap(\"gray\"))\n",
        "  ax[i].axis(\"off\")\n",
        "\n",
        "  test_image = preprocessed_img.reshape(1, 32, 32, 1)\n",
        "  \n",
        "  predicted_class_num = int(model.predict_classes(test_image))\n",
        "\n",
        "  print('Predicted sign:', str(sign_names['SignName'][sign_names['ClassId'] == predicted_class_num]))\n"
      ],
      "execution_count": null,
      "outputs": []
    },
    {
      "cell_type": "markdown",
      "metadata": {
        "id": "mn9TjtyiZlGU",
        "colab_type": "text"
      },
      "source": [
        "# Data augmentaton using ImageDataGenerator"
      ]
    },
    {
      "cell_type": "code",
      "metadata": {
        "id": "Jd-4IIaqZtG3",
        "colab_type": "code",
        "colab": {}
      },
      "source": [
        "X_train_data.shape"
      ],
      "execution_count": null,
      "outputs": []
    },
    {
      "cell_type": "code",
      "metadata": {
        "id": "KpWfQobvZs0T",
        "colab_type": "code",
        "colab": {}
      },
      "source": [
        "y_train_data.shape"
      ],
      "execution_count": null,
      "outputs": []
    },
    {
      "cell_type": "code",
      "metadata": {
        "id": "7U9IxwSNhDG7",
        "colab_type": "code",
        "colab": {}
      },
      "source": [
        "X_train_pre = np.array(list(map(preprocess_image, X_train_data)))\n",
        "X_test_pre = np.array(list(map(preprocess_image, X_test_data)))\n",
        "X_val_pre = np.array(list(map(preprocess_image, X_val_data)))"
      ],
      "execution_count": null,
      "outputs": []
    },
    {
      "cell_type": "code",
      "metadata": {
        "id": "JHgpo74nhYhJ",
        "colab_type": "code",
        "colab": {}
      },
      "source": [
        "X_train = X_train_pre.reshape((34799, 32, 32, 1))\n",
        "X_test = X_test_pre.reshape((12630, 32, 32, 1))\n",
        "X_val = X_val_pre.reshape((4410, 32, 32, 1))"
      ],
      "execution_count": null,
      "outputs": []
    },
    {
      "cell_type": "code",
      "metadata": {
        "id": "0N-NgkyiQdje",
        "colab_type": "code",
        "colab": {}
      },
      "source": [
        "data_geterator = ImageDataGenerator(\n",
        "                                    width_shift_range=0.1,\n",
        "                                    height_shift_range=0.1,\n",
        "                                    zoom_range=0.2,\n",
        "                                    shear_range=0.1,\n",
        "                                    rotation_range=10\n",
        "                                    )"
      ],
      "execution_count": null,
      "outputs": []
    },
    {
      "cell_type": "code",
      "metadata": {
        "id": "2NJ4JsnaeiVx",
        "colab_type": "code",
        "colab": {}
      },
      "source": [
        "# Fitting the data\n",
        "data_geterator.fit(X_train)"
      ],
      "execution_count": null,
      "outputs": []
    },
    {
      "cell_type": "markdown",
      "metadata": {
        "id": "LwSc-7mq3eJZ",
        "colab_type": "text"
      },
      "source": [
        "### OneHotEncoding labels"
      ]
    },
    {
      "cell_type": "code",
      "metadata": {
        "id": "o0yUrOoUjz_D",
        "colab_type": "code",
        "colab": {}
      },
      "source": [
        "y_train = to_categorical(y_train_data)\n",
        "y_test = to_categorical(y_test_data, num_classes)\n",
        "y_val = to_categorical(y_val_data, num_classes)"
      ],
      "execution_count": null,
      "outputs": []
    },
    {
      "cell_type": "code",
      "metadata": {
        "id": "5g7x5R1JgeGo",
        "colab_type": "code",
        "colab": {}
      },
      "source": [
        "history = model.fit_generator(\n",
        "                              data_geterator.flow(X_train, y_train, batch_size=200),\n",
        "                              steps_per_epoch=200,\n",
        "                              epochs=10,\n",
        "                              validation_data=(X_val, y_val),\n",
        "                              shuffle=1,\n",
        "                              verbose=1\n",
        "                              )"
      ],
      "execution_count": null,
      "outputs": []
    },
    {
      "cell_type": "code",
      "metadata": {
        "id": "Y8k6VuRK9Qrg",
        "colab_type": "code",
        "colab": {}
      },
      "source": [
        "path_to_model = 'models/best_model'"
      ],
      "execution_count": null,
      "outputs": []
    },
    {
      "cell_type": "code",
      "metadata": {
        "id": "pft1UUFg52lj",
        "colab_type": "code",
        "colab": {}
      },
      "source": [
        "model.save(path_to_model)"
      ],
      "execution_count": null,
      "outputs": []
    },
    {
      "cell_type": "code",
      "metadata": {
        "id": "uffWo04s9MGC",
        "colab_type": "code",
        "colab": {}
      },
      "source": [
        "model = keras.models.load_model(path_to_model)"
      ],
      "execution_count": null,
      "outputs": []
    },
    {
      "cell_type": "code",
      "metadata": {
        "id": "U0SBuUfSmt30",
        "colab_type": "code",
        "colab": {}
      },
      "source": [
        "loss, acc = model.evaluate(X_test, y_test, verbose=0)\n",
        "\n",
        "print('Test loss:', loss)\n",
        "print('Test accuracy:', acc)"
      ],
      "execution_count": null,
      "outputs": []
    },
    {
      "cell_type": "code",
      "metadata": {
        "id": "7-6bF6bTmze6",
        "colab_type": "code",
        "colab": {}
      },
      "source": [
        "plt.plot(history.history['accuracy'])\n",
        "plt.plot(history.history['val_accuracy'])\n",
        "\n",
        "plt.xlabel('Epoch')\n",
        "plt.title('Accuracy')\n",
        "plt.legend(['training', 'validation'])"
      ],
      "execution_count": null,
      "outputs": []
    },
    {
      "cell_type": "code",
      "metadata": {
        "id": "fgUjTtSbng-9",
        "colab_type": "code",
        "colab": {}
      },
      "source": [
        "plt.plot(history.history['loss'])\n",
        "plt.plot(history.history['val_loss'])\n",
        "\n",
        "plt.xlabel('Epoch')\n",
        "plt.title('Loss')\n",
        "plt.legend(['training', 'validation'])"
      ],
      "execution_count": null,
      "outputs": []
    },
    {
      "cell_type": "code",
      "metadata": {
        "id": "hlIakFjanmSu",
        "colab_type": "code",
        "colab": {}
      },
      "source": [
        "fig, ax = plt.subplots(nrows=len(test_pics), ncols = 1, figsize=(5, 50))\n",
        "fig.tight_layout()\n",
        "\n",
        "for i, test_pic in enumerate(test_pics):\n",
        "  img = cv2.imread(test_pic)\n",
        "\n",
        "  img = np.asarray(img)\n",
        "  resized_img = cv2.resize(img, (32, 32))\n",
        "  preprocessed_img = preprocess_image(resized_img)\n",
        "  # plt.imshow(preprocessed_img, cmap = plt.get_cmap('gray'))\n",
        "  print(preprocessed_img.shape)\n",
        "\n",
        "  ax[i].imshow(preprocessed_img, cmap=plt.get_cmap(\"gray\"))\n",
        "  ax[i].axis(\"off\")\n",
        "\n",
        "  test_image = preprocessed_img.reshape(1, 32, 32, 1)\n",
        "  \n",
        "  predicted_class_num = int(model.predict_classes(test_image))\n",
        "\n",
        "  print('Predicted sign:', str(sign_names['SignName'][sign_names['ClassId'] == predicted_class_num]))\n"
      ],
      "execution_count": null,
      "outputs": []
    },
    {
      "cell_type": "code",
      "metadata": {
        "id": "GM434T5iqmC3",
        "colab_type": "code",
        "colab": {
          "base_uri": "https://localhost:8080/",
          "height": 1000
        },
        "outputId": "6a30bba6-e9bb-4b73-a52f-65f6f3a80e3c"
      },
      "source": [
        "from tensorflow.keras.utils import plot_model\n",
        "\n",
        "plot_model(model, show_shapes=True, show_layer_names=True)"
      ],
      "execution_count": 40,
      "outputs": [
        {
          "output_type": "execute_result",
          "data": {
            "image/png": "[encoded data removed]",
            "text/plain": [
              "<IPython.core.display.Image object>"
            ]
          },
          "metadata": {
            "tags": []
          },
          "execution_count": 40
        }
      ]
    },
    {
      "cell_type": "code",
      "metadata": {
        "id": "vCvGCLVml6Mz",
        "colab_type": "code",
        "colab": {}
      },
      "source": [
        ""
      ],
      "execution_count": null,
      "outputs": []
    }
  ]
}